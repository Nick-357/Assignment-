{
 "cells": [
  {
   "cell_type": "markdown",
   "id": "592acd8e-3a2e-4339-b2de-95eec17c8fc9",
   "metadata": {},
   "source": [
    "<h1>Data Science Tools and Ecosystem</h1>\n"
   ]
  },
  {
   "cell_type": "markdown",
   "id": "b8973422-5564-4670-8915-a558ae4b6f52",
   "metadata": {},
   "source": [
    "In this notebook, Data Science Tools and Ecosystem are summarized.\n"
   ]
  },
  {
   "cell_type": "markdown",
   "id": "cb71dff9-1fa3-4778-bbf1-8416118f369c",
   "metadata": {},
   "source": [
    "__Objectives:__\n",
    "- List of popular languages for data science\n",
    "- Commonly user libraries in data science \n",
    "- Examples of code and markdown\n"
   ]
  },
  {
   "cell_type": "markdown",
   "id": "287fcda0-3f16-484c-926f-d7fd77e3ab3b",
   "metadata": {},
   "source": [
    "Some of the popular languages that Data Scientists use are:\n",
    "1. Python\n",
    "2. Java\n",
    "3. Julia"
   ]
  },
  {
   "cell_type": "markdown",
   "id": "a6f08257-c070-47b7-8f1f-cc03c598dd53",
   "metadata": {},
   "source": [
    "Some of the commonly used libraries used by Data Scientists include:\n",
    "1. Pandas\n",
    "2. Numpy\n",
    "3. Matplotlib"
   ]
  },
  {
   "cell_type": "markdown",
   "id": "e47a834f-1f2e-40f3-aa85-22567fd8d82b",
   "metadata": {},
   "source": [
    "|Data Science Tools| Jupyter | R Studio | SQL |\n",
    "|------------------|---|---|---|"
   ]
  },
  {
   "cell_type": "markdown",
   "id": "d8223f60-a0f5-4102-840a-1a66c7f4f0f0",
   "metadata": {},
   "source": [
    "<h3>Below are a few examples of evaluating arithmetic expressions in Python</h3>\n"
   ]
  },
  {
   "cell_type": "code",
   "execution_count": 4,
   "id": "3ecf4b2a-e07e-4a99-8146-5686f119f69b",
   "metadata": {},
   "outputs": [
    {
     "data": {
      "text/plain": [
       "17"
      ]
     },
     "execution_count": 4,
     "metadata": {},
     "output_type": "execute_result"
    }
   ],
   "source": [
    "#his a simple arithmetic expression to mutiply then add integers\n",
    "(3*4)+5"
   ]
  },
  {
   "cell_type": "code",
   "execution_count": 5,
   "id": "5ae2d511-dcde-4bfe-bcac-2db260fa2596",
   "metadata": {},
   "outputs": [
    {
     "name": "stdout",
     "output_type": "stream",
     "text": [
      "3.3333333333333335\n"
     ]
    }
   ],
   "source": [
    "#This will convert 200 minutes to hours by diving by 60\n",
    "mins=200\n",
    "hours=mins/60\n",
    "print(hours)"
   ]
  },
  {
   "cell_type": "markdown",
   "id": "12e416b8-a6eb-457d-a583-eadbe76db039",
   "metadata": {},
   "source": [
    "<h2>Author</h2>\n",
    "Nikhilesh"
   ]
  },
  {
   "cell_type": "code",
   "execution_count": null,
   "id": "25d54002-58f8-4291-968a-ad133199b4f9",
   "metadata": {},
   "outputs": [],
   "source": []
  }
 ],
 "metadata": {
  "kernelspec": {
   "display_name": "Python 3 (ipykernel)",
   "language": "python",
   "name": "python3"
  },
  "language_info": {
   "codemirror_mode": {
    "name": "ipython",
    "version": 3
   },
   "file_extension": ".py",
   "mimetype": "text/x-python",
   "name": "python",
   "nbconvert_exporter": "python",
   "pygments_lexer": "ipython3",
   "version": "3.9.13"
  }
 },
 "nbformat": 4,
 "nbformat_minor": 5
}
